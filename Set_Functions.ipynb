{
  "nbformat": 4,
  "nbformat_minor": 0,
  "metadata": {
    "colab": {
      "provenance": [],
      "authorship_tag": "ABX9TyNvkKjQAVYzylOVlY2DakYO",
      "include_colab_link": true
    },
    "kernelspec": {
      "name": "python3",
      "display_name": "Python 3"
    },
    "language_info": {
      "name": "python"
    }
  },
  "cells": [
    {
      "cell_type": "markdown",
      "metadata": {
        "id": "view-in-github",
        "colab_type": "text"
      },
      "source": [
        "<a href=\"https://colab.research.google.com/github/iamnaofil/PracticeVisualizations/blob/main/Set_Functions.ipynb\" target=\"_parent\"><img src=\"https://colab.research.google.com/assets/colab-badge.svg\" alt=\"Open In Colab\"/></a>"
      ]
    },
    {
      "cell_type": "markdown",
      "source": [
        "1) Set dont allow duplicates\n",
        "<br>\n",
        "2) Set have no indexing/ slicing\n",
        "<br>\n",
        "3) Set dont allow mutable data type where as Set is itself Mutable\n",
        "<br> It means 2D or 3D concept not applicable"
      ],
      "metadata": {
        "id": "K-SMjAHffxGY"
      }
    },
    {
      "cell_type": "markdown",
      "source": [
        "**Set is Data Type : Container Data Type**"
      ],
      "metadata": {
        "id": "oWxcBD0ufmeO"
      }
    },
    {
      "cell_type": "code",
      "source": [
        "Set1={1,2,3}\n",
        "print(Set1)"
      ],
      "metadata": {
        "colab": {
          "base_uri": "https://localhost:8080/"
        },
        "id": "ofjTe6ZLfqoN",
        "outputId": "34806ca3-502f-4d5d-99f1-688ddda1dc52"
      },
      "execution_count": 1,
      "outputs": [
        {
          "output_type": "stream",
          "name": "stdout",
          "text": [
            "{1, 2, 3}\n"
          ]
        }
      ]
    },
    {
      "cell_type": "markdown",
      "source": [
        "Empty Set"
      ],
      "metadata": {
        "id": "mQyxZ5V9gQwG"
      }
    },
    {
      "cell_type": "code",
      "execution_count": 2,
      "metadata": {
        "colab": {
          "base_uri": "https://localhost:8080/"
        },
        "id": "nYoaOnUafgQ-",
        "outputId": "b8d1ece9-b7a1-489f-f1e5-cd2823220c53"
      },
      "outputs": [
        {
          "output_type": "stream",
          "name": "stdout",
          "text": [
            "<class 'dict'>\n"
          ]
        }
      ],
      "source": [
        "set1={} #Its act as Dictionary By Default\n",
        "print(type(set1))"
      ]
    },
    {
      "cell_type": "code",
      "source": [
        "#Instead we have to do like type converting\n",
        "set1=set()\n",
        "print(set1)"
      ],
      "metadata": {
        "colab": {
          "base_uri": "https://localhost:8080/"
        },
        "id": "ZQTm8xMpfvbX",
        "outputId": "ce1bcb6b-812a-473b-f350-a6000fef1c4b"
      },
      "execution_count": 4,
      "outputs": [
        {
          "output_type": "stream",
          "name": "stdout",
          "text": [
            "set()\n"
          ]
        }
      ]
    },
    {
      "cell_type": "code",
      "source": [
        "#in Python the default { } is for dictionary"
      ],
      "metadata": {
        "id": "rH1G4tc5gkEh"
      },
      "execution_count": 5,
      "outputs": []
    },
    {
      "cell_type": "markdown",
      "source": [
        "**Homogenous Set**\n"
      ],
      "metadata": {
        "id": "Euq1QLjDg8XV"
      }
    },
    {
      "cell_type": "code",
      "source": [
        "#Same data type and different Data types set\n",
        "set2={1,2,3,4}\n",
        "set3={1,2,'3','4'}\n",
        "print('Homogenous Set :')\n",
        "print(set2)\n",
        "print('Hetrogenous Set :')\n",
        "print(set3)"
      ],
      "metadata": {
        "colab": {
          "base_uri": "https://localhost:8080/"
        },
        "id": "N_sH9xnng6sI",
        "outputId": "8bf5397e-f897-4265-a0f5-47a980b0ae9e"
      },
      "execution_count": 7,
      "outputs": [
        {
          "output_type": "stream",
          "name": "stdout",
          "text": [
            "Homogenous Set :\n",
            "{1, 2, 3, 4}\n",
            "Hetrogenous Set :\n",
            "{1, 2, '4', '3'}\n"
          ]
        }
      ]
    },
    {
      "cell_type": "markdown",
      "source": [
        "**NO Duplicating**"
      ],
      "metadata": {
        "id": "hns_wbD5hgak"
      }
    },
    {
      "cell_type": "code",
      "source": [
        "set4={1,1,1,2,2,3,3,3,4,4,4,4,4,5}\n",
        "print(set4) #Automatically take unique values"
      ],
      "metadata": {
        "colab": {
          "base_uri": "https://localhost:8080/"
        },
        "id": "Bcms30YOhTZE",
        "outputId": "82df0db1-76ca-4ad5-b32f-79589e4d1c88"
      },
      "execution_count": 8,
      "outputs": [
        {
          "output_type": "stream",
          "name": "stdout",
          "text": [
            "{1, 2, 3, 4, 5}\n"
          ]
        }
      ]
    },
    {
      "cell_type": "markdown",
      "source": [
        "**set dont allow mutable data type**"
      ],
      "metadata": {
        "id": "JfGP9KEsh4Y0"
      }
    },
    {
      "cell_type": "code",
      "source": [
        "set5={'Hello',4,5} #String is immutable,  Tuple is immutable\n",
        "print(set5)"
      ],
      "metadata": {
        "colab": {
          "base_uri": "https://localhost:8080/"
        },
        "id": "Tip2hcGyhnTy",
        "outputId": "08741fa2-c9bb-4d7b-92fc-0db3e6f63090"
      },
      "execution_count": 10,
      "outputs": [
        {
          "output_type": "stream",
          "name": "stdout",
          "text": [
            "{4, 'Hello', 5}\n"
          ]
        }
      ]
    },
    {
      "cell_type": "code",
      "source": [
        "type(set5)"
      ],
      "metadata": {
        "colab": {
          "base_uri": "https://localhost:8080/"
        },
        "id": "8BwI6gLfh7em",
        "outputId": "563dd066-1913-4296-a46c-2be3ad0ee5f2"
      },
      "execution_count": 11,
      "outputs": [
        {
          "output_type": "execute_result",
          "data": {
            "text/plain": [
              "set"
            ]
          },
          "metadata": {},
          "execution_count": 11
        }
      ]
    },
    {
      "cell_type": "code",
      "source": [
        "#Now see can we add a list in Set5\n",
        "#set6={'Hello',[1,2,3]};print(set6)\n",
        "\n",
        "#Here error arrise, unhashable type list\n",
        "#We already discussed that Set dont allow mutable data type"
      ],
      "metadata": {
        "id": "pqvPxCmFiLFD"
      },
      "execution_count": 13,
      "outputs": []
    },
    {
      "cell_type": "code",
      "source": [
        "#But thnk if we write it into tuple it will accept\n",
        "set6={'Hello',(1)}\n",
        "print(set6)\n"
      ],
      "metadata": {
        "colab": {
          "base_uri": "https://localhost:8080/"
        },
        "id": "kXM_kEQ6iXy_",
        "outputId": "4b1bc340-f3f3-4b33-e0aa-e8e89875af4d"
      },
      "execution_count": 29,
      "outputs": [
        {
          "output_type": "stream",
          "name": "stdout",
          "text": [
            "{1, 'Hello'}\n"
          ]
        }
      ]
    },
    {
      "cell_type": "code",
      "source": [
        "#Set Ordering : Set have No Indexing But instead Hashing"
      ],
      "metadata": {
        "id": "K7nhuwF8i1pD"
      },
      "execution_count": 16,
      "outputs": []
    },
    {
      "cell_type": "code",
      "source": [
        "#Set is mutable but support Immutable data inside it\n",
        "#we can't edit Set\n",
        "print(id(set6))\n",
        "list11=list(set6)\n",
        "print(list11[1])\n",
        "set6=set(list11[1])"
      ],
      "metadata": {
        "colab": {
          "base_uri": "https://localhost:8080/"
        },
        "id": "8gwdKdIFi_EK",
        "outputId": "0961462d-bf82-49fc-af39-ae867878a24c"
      },
      "execution_count": 30,
      "outputs": [
        {
          "output_type": "stream",
          "name": "stdout",
          "text": [
            "139754740276288\n",
            "Hello\n"
          ]
        }
      ]
    },
    {
      "cell_type": "code",
      "source": [
        "id(set6)"
      ],
      "metadata": {
        "colab": {
          "base_uri": "https://localhost:8080/"
        },
        "id": "aGcqV67ejum4",
        "outputId": "85a1178e-6ed6-4ba7-edcc-bdd515c9dc22"
      },
      "execution_count": 31,
      "outputs": [
        {
          "output_type": "execute_result",
          "data": {
            "text/plain": [
              "139754740277184"
            ]
          },
          "metadata": {},
          "execution_count": 31
        }
      ]
    },
    {
      "cell_type": "code",
      "source": [
        "#It means Editing is technically not possible in Set"
      ],
      "metadata": {
        "id": "sitnSQgxkOJo"
      },
      "execution_count": null,
      "outputs": []
    },
    {
      "cell_type": "markdown",
      "source": [
        "**Add Item in SET**"
      ],
      "metadata": {
        "id": "SVHoLDNAktCf"
      }
    },
    {
      "cell_type": "code",
      "source": [
        "s={2,3,4,100}\n",
        "print(s)\n",
        "print(id(s))\n"
      ],
      "metadata": {
        "colab": {
          "base_uri": "https://localhost:8080/"
        },
        "id": "RK784OphkmDa",
        "outputId": "2b798022-3026-424f-952e-2847378ce5a1"
      },
      "execution_count": 32,
      "outputs": [
        {
          "output_type": "stream",
          "name": "stdout",
          "text": [
            "{2, 3, 100, 4}\n",
            "139754740277408\n"
          ]
        }
      ]
    },
    {
      "cell_type": "code",
      "source": [
        "s.add(6)\n",
        "print(id(s))\n",
        "print(s)"
      ],
      "metadata": {
        "colab": {
          "base_uri": "https://localhost:8080/"
        },
        "id": "vSTL_KPtksZI",
        "outputId": "7245ec94-8d4a-4892-fb42-2662dfd5f238"
      },
      "execution_count": 33,
      "outputs": [
        {
          "output_type": "stream",
          "name": "stdout",
          "text": [
            "139754740277408\n",
            "{2, 3, 100, 4, 6}\n"
          ]
        }
      ]
    },
    {
      "cell_type": "code",
      "source": [
        "#THIS WILL BE CALLED AS EDITING because Same Memory Location"
      ],
      "metadata": {
        "id": "4BEdKAUXkmRF"
      },
      "execution_count": null,
      "outputs": []
    },
    {
      "cell_type": "markdown",
      "source": [
        "**Deleting in SET**"
      ],
      "metadata": {
        "id": "W2V0cqGzlFlB"
      }
    },
    {
      "cell_type": "code",
      "source": [
        "#Using Del\n",
        "s2={1,2,3}\n",
        "print(s2)\n",
        "del s2\n",
        "print(s2) #S2 Delete"
      ],
      "metadata": {
        "colab": {
          "base_uri": "https://localhost:8080/",
          "height": 227
        },
        "id": "Ude2XpqAkmbA",
        "outputId": "7e96299d-b32f-4cb6-baac-7b812fa27fb1"
      },
      "execution_count": 34,
      "outputs": [
        {
          "output_type": "stream",
          "name": "stdout",
          "text": [
            "{1, 2, 3}\n"
          ]
        },
        {
          "output_type": "error",
          "ename": "NameError",
          "evalue": "ignored",
          "traceback": [
            "\u001b[0;31m---------------------------------------------------------------------------\u001b[0m",
            "\u001b[0;31mNameError\u001b[0m                                 Traceback (most recent call last)",
            "\u001b[0;32m<ipython-input-34-65d32746474b>\u001b[0m in \u001b[0;36m<cell line: 5>\u001b[0;34m()\u001b[0m\n\u001b[1;32m      3\u001b[0m \u001b[0mprint\u001b[0m\u001b[0;34m(\u001b[0m\u001b[0ms2\u001b[0m\u001b[0;34m)\u001b[0m\u001b[0;34m\u001b[0m\u001b[0;34m\u001b[0m\u001b[0m\n\u001b[1;32m      4\u001b[0m \u001b[0;32mdel\u001b[0m \u001b[0ms2\u001b[0m\u001b[0;34m\u001b[0m\u001b[0;34m\u001b[0m\u001b[0m\n\u001b[0;32m----> 5\u001b[0;31m \u001b[0mprint\u001b[0m\u001b[0;34m(\u001b[0m\u001b[0ms2\u001b[0m\u001b[0;34m)\u001b[0m\u001b[0;34m\u001b[0m\u001b[0;34m\u001b[0m\u001b[0m\n\u001b[0m",
            "\u001b[0;31mNameError\u001b[0m: name 's2' is not defined"
          ]
        }
      ]
    },
    {
      "cell_type": "code",
      "source": [
        "#Using Remove\n",
        "s2={1,11,2,111,1111,11111,}\n",
        "s2.remove(2)\n",
        "print(s2) #Unordered"
      ],
      "metadata": {
        "colab": {
          "base_uri": "https://localhost:8080/"
        },
        "id": "lXekiiTmkmhg",
        "outputId": "b182af21-2348-4264-e1cb-375142e5c131"
      },
      "execution_count": 36,
      "outputs": [
        {
          "output_type": "stream",
          "name": "stdout",
          "text": [
            "{1, 1111, 11111, 11, 111}\n"
          ]
        }
      ]
    },
    {
      "cell_type": "code",
      "source": [
        "#Using POP\n",
        "s2.pop() #Last Inserted will be delete , in my case it delete 1 first,then 1111"
      ],
      "metadata": {
        "colab": {
          "base_uri": "https://localhost:8080/"
        },
        "id": "4uUKwQMJkmmm",
        "outputId": "41e5b271-98a9-4b77-b35f-c2744b64a8f7"
      },
      "execution_count": 39,
      "outputs": [
        {
          "output_type": "execute_result",
          "data": {
            "text/plain": [
              "11111"
            ]
          },
          "metadata": {},
          "execution_count": 39
        }
      ]
    },
    {
      "cell_type": "code",
      "source": [
        "#Set Operation : Doesnt Support COncatination or Repeatence for scalar value"
      ],
      "metadata": {
        "id": "If67oxkmkmrQ"
      },
      "execution_count": 40,
      "outputs": []
    },
    {
      "cell_type": "code",
      "source": [
        "#For Loop\n",
        "set8={2,3,5,3,42,45,33,44,22,11,55,33,66}\n",
        "print(set8)\n"
      ],
      "metadata": {
        "colab": {
          "base_uri": "https://localhost:8080/"
        },
        "id": "rrCEpaMdkmwR",
        "outputId": "411a273d-e9bc-4a88-c8eb-c0f6e59f866f"
      },
      "execution_count": 43,
      "outputs": [
        {
          "output_type": "stream",
          "name": "stdout",
          "text": [
            "{33, 2, 3, 66, 5, 42, 11, 44, 45, 22, 55}\n"
          ]
        }
      ]
    },
    {
      "cell_type": "code",
      "source": [
        "#Operation can be perfomr using loop:\n",
        "for i in set8:\n",
        "    print(int(i)/2)"
      ],
      "metadata": {
        "colab": {
          "base_uri": "https://localhost:8080/"
        },
        "id": "HLdvxjrtkm17",
        "outputId": "4ac39e9e-e372-4d20-c203-3d17a9083921"
      },
      "execution_count": 46,
      "outputs": [
        {
          "output_type": "stream",
          "name": "stdout",
          "text": [
            "16.5\n",
            "1.0\n",
            "1.5\n",
            "33.0\n",
            "2.5\n",
            "21.0\n",
            "5.5\n",
            "22.0\n",
            "22.5\n",
            "11.0\n",
            "27.5\n"
          ]
        }
      ]
    },
    {
      "cell_type": "markdown",
      "source": [
        "**That you studied in college**"
      ],
      "metadata": {
        "id": "FhzHYSPhknSj"
      }
    },
    {
      "cell_type": "markdown",
      "source": [
        "**SET UNION**"
      ],
      "metadata": {
        "id": "F1ZR1Wkqmqw5"
      }
    },
    {
      "cell_type": "code",
      "source": [
        "s1={1,2,3,4,5,6,7,8,9,10,11,12,14}\n",
        "s2={1,2,3,4,13,15,16}\n"
      ],
      "metadata": {
        "id": "7L4S6Meokm6I"
      },
      "execution_count": 47,
      "outputs": []
    },
    {
      "cell_type": "code",
      "source": [
        "s1.union(s2)"
      ],
      "metadata": {
        "colab": {
          "base_uri": "https://localhost:8080/"
        },
        "id": "6qY3aIOakm-4",
        "outputId": "aa15f372-d158-4700-b7c2-3e729de2b849"
      },
      "execution_count": 48,
      "outputs": [
        {
          "output_type": "execute_result",
          "data": {
            "text/plain": [
              "{1, 2, 3, 4, 5, 6, 7, 8, 9, 10, 11, 12, 13, 14, 15, 16}"
            ]
          },
          "metadata": {},
          "execution_count": 48
        }
      ]
    },
    {
      "cell_type": "code",
      "source": [
        "s1.intersection(s2)"
      ],
      "metadata": {
        "colab": {
          "base_uri": "https://localhost:8080/"
        },
        "id": "KEtobhW7knEC",
        "outputId": "b5aac966-7c46-49d8-ed33-139c915f8b31"
      },
      "execution_count": 51,
      "outputs": [
        {
          "output_type": "execute_result",
          "data": {
            "text/plain": [
              "{1, 2, 3, 4}"
            ]
          },
          "metadata": {},
          "execution_count": 51
        }
      ]
    },
    {
      "cell_type": "code",
      "source": [
        "s1.difference(s2)"
      ],
      "metadata": {
        "colab": {
          "base_uri": "https://localhost:8080/"
        },
        "id": "CksnC2cCknIn",
        "outputId": "4b840d92-c9a3-426b-cddb-d00454c95701"
      },
      "execution_count": 52,
      "outputs": [
        {
          "output_type": "execute_result",
          "data": {
            "text/plain": [
              "{5, 6, 7, 8, 9, 10, 11, 12, 14}"
            ]
          },
          "metadata": {},
          "execution_count": 52
        }
      ]
    },
    {
      "cell_type": "code",
      "source": [
        "s2.difference(s1)"
      ],
      "metadata": {
        "colab": {
          "base_uri": "https://localhost:8080/"
        },
        "id": "1IXFK2bcknNY",
        "outputId": "34b01d93-8978-4acd-e9bc-d1240de90cd9"
      },
      "execution_count": 53,
      "outputs": [
        {
          "output_type": "execute_result",
          "data": {
            "text/plain": [
              "{13, 15, 16}"
            ]
          },
          "metadata": {},
          "execution_count": 53
        }
      ]
    },
    {
      "cell_type": "code",
      "source": [
        "s1.symmetric_difference(s2)"
      ],
      "metadata": {
        "colab": {
          "base_uri": "https://localhost:8080/"
        },
        "id": "uYUvlhqCnbtW",
        "outputId": "6743a09b-c2f3-4fe2-a269-6a70deb94810"
      },
      "execution_count": 54,
      "outputs": [
        {
          "output_type": "execute_result",
          "data": {
            "text/plain": [
              "{5, 6, 7, 8, 9, 10, 11, 12, 13, 14, 15, 16}"
            ]
          },
          "metadata": {},
          "execution_count": 54
        }
      ]
    },
    {
      "cell_type": "code",
      "source": [
        "s2.issubset(s1)"
      ],
      "metadata": {
        "colab": {
          "base_uri": "https://localhost:8080/"
        },
        "id": "PDFjEGh-nj7R",
        "outputId": "8a78f99e-1843-4383-9e73-c442dfa301c9"
      },
      "execution_count": 55,
      "outputs": [
        {
          "output_type": "execute_result",
          "data": {
            "text/plain": [
              "False"
            ]
          },
          "metadata": {},
          "execution_count": 55
        }
      ]
    },
    {
      "cell_type": "code",
      "source": [
        "s1.issubset(s2)"
      ],
      "metadata": {
        "colab": {
          "base_uri": "https://localhost:8080/"
        },
        "id": "rdf-nDEEnj90",
        "outputId": "6693fb85-6b25-46c7-bae4-3a72ac35000e"
      },
      "execution_count": 56,
      "outputs": [
        {
          "output_type": "execute_result",
          "data": {
            "text/plain": [
              "False"
            ]
          },
          "metadata": {},
          "execution_count": 56
        }
      ]
    },
    {
      "cell_type": "code",
      "source": [
        "s2.isdisjoint(s1)"
      ],
      "metadata": {
        "colab": {
          "base_uri": "https://localhost:8080/"
        },
        "id": "z8qAcyRfnkAK",
        "outputId": "09462639-bcea-4313-b12c-3d087c6a26a2"
      },
      "execution_count": 57,
      "outputs": [
        {
          "output_type": "execute_result",
          "data": {
            "text/plain": [
              "False"
            ]
          },
          "metadata": {},
          "execution_count": 57
        }
      ]
    },
    {
      "cell_type": "markdown",
      "source": [
        "**Clear Set Copy Set**"
      ],
      "metadata": {
        "id": "bMhLVxwTn4b7"
      }
    },
    {
      "cell_type": "code",
      "source": [
        "s4={1,2,3,4,5,6,7,8,9}\n",
        "print(s4)\n",
        "s4.clear()\n",
        "print(s4)"
      ],
      "metadata": {
        "colab": {
          "base_uri": "https://localhost:8080/"
        },
        "id": "_vKP9lWCnkCh",
        "outputId": "bcc9bd1b-efa3-4380-8699-9c75c2a11113"
      },
      "execution_count": 58,
      "outputs": [
        {
          "output_type": "stream",
          "name": "stdout",
          "text": [
            "{1, 2, 3, 4, 5, 6, 7, 8, 9}\n",
            "set()\n"
          ]
        }
      ]
    },
    {
      "cell_type": "code",
      "source": [],
      "metadata": {
        "id": "JzddJ4tnnkEz"
      },
      "execution_count": null,
      "outputs": []
    },
    {
      "cell_type": "code",
      "source": [],
      "metadata": {
        "id": "BI5Lj_jInkHO"
      },
      "execution_count": null,
      "outputs": []
    },
    {
      "cell_type": "code",
      "source": [],
      "metadata": {
        "id": "waKLVuBnnkJZ"
      },
      "execution_count": null,
      "outputs": []
    },
    {
      "cell_type": "code",
      "source": [],
      "metadata": {
        "id": "sqOiL1QnnkL4"
      },
      "execution_count": null,
      "outputs": []
    },
    {
      "cell_type": "code",
      "source": [],
      "metadata": {
        "id": "XfkZ0zEfnkOR"
      },
      "execution_count": null,
      "outputs": []
    }
  ]
}